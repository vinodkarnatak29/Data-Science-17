{
 "cells": [
  {
   "cell_type": "code",
   "execution_count": 3,
   "metadata": {},
   "outputs": [],
   "source": [
    "#Problem Statement 1:\n",
    "\n",
    "#Blood glucose levels for obese patients have a mean of 100 with a standard deviation of 15.\n",
    "#A researcher thinks that a diet high in raw cornstarch will have a positive effect on Blood glucose levels.\n",
    "#A sample of 36 patients who have tried the raw cornstarch diet have a mean glucose level of 108.\n",
    "#Test the hypothesis that the raw cornstarch had an affect or not."
   ]
  },
  {
   "cell_type": "markdown",
   "metadata": {},
   "source": [
    "# solution:\n",
    "    \n",
    "##The steps to perform Hypothesis Testing are below\n",
    "\n",
    "1.) Set up Hypothesis (NULL and Alternate).\n",
    "2.) Set the Criteria for  decision.\n",
    "3.) Compute the random chance of probability.\n",
    "4.) Make Decision.\n",
    "\n",
    "Step-1: State the hypotheses. The population mean is 100.\n",
    "\n",
    "H0: μ= 100\n",
    "H1: μ > 100\n",
    "\n",
    "Step-2: Set up the significance level. It is not given in the problem so let’s assume it as 5% (0.05).\n",
    "\n",
    "Step-3: Compute the random chance probability using z score and z-table.\n",
    "    \n",
    "    Z = (x - μ) / σ\n",
    "    \n",
    "    Above μ= Mean and σ standard deviation\n",
    "    \n",
    "For the given set of data: z= (108-100) / (15/√36)=3.20\n",
    "    \n",
    "We can look at the probability by looking at z- table and p-value associated with 3.20 is 0.9993 \n",
    "i.e. probability of having value less than 108 is 0.9993 and more than or equals to 108 is (1-0.9993)=0.0007\n",
    "\n",
    "Step-4: It is less than 0.05 so we will reject the Null hypothesis i.e. there is raw cornstarch effect."
   ]
  },
  {
   "cell_type": "code",
   "execution_count": 4,
   "metadata": {},
   "outputs": [],
   "source": [
    "#Problem Statement 2:\n",
    "\n",
    "#In one state, 52% of the voters are Republicans, and 48% are Democrats. In a second State, 47% of the voters are Republicans,\n",
    "#and 53% are Democrats. Suppose a simple Random sample of 100 voters are surveyed from each state.\n",
    "#What is the probability that the survey will show a greater percentage of Republican Voters in the second state than in the first state? "
   ]
  },
  {
   "cell_type": "markdown",
   "metadata": {},
   "source": [
    "#solution\n",
    "\n",
    "let P1 = the proportion of Republican voters in the first state, P2 = the proportion of Republican voters in the second state,\n",
    "p1 = the proportion of Republican voters in the sample from the first state,\n",
    "and p2 = the proportion of Republican voters in the sample from the second state.\n",
    "The number of voters sampled from the first state (n1) = 100, and the number of voters sampled from the second state (n2) = 100.\n",
    "\n",
    "# The solution involves four steps.\n",
    "\n",
    "Make sure the sample size is big enough to model differences with a normal population. \n",
    "Because n1P1 = 100 * 0.52 = 52, n1(1 - P1) = 100 * 0.48 = 48,\n",
    "n2P2 = 100 * 0.47 = 47, and n2(1 - P2) = 100 * 0.53 = 53 are each greater than 10, the sample size is large enough.\n",
    "\n",
    "Mean of the difference in sample proportions: E(p1 - p2) = P1 - P2 = 0.52 - 0.47 = 0.05.\n",
    "\n",
    "Standard deviation of the difference.\n",
    "\n",
    "σd = sqrt{ [ P1(1 - P1) / n1 ] + [ P2(1 - P2) / n2 ] } \n",
    "σd = sqrt{ [ (0.52)(0.48) / 100 ] + [ (0.47)(0.53) / 100 ] } \n",
    "σd = sqrt (0.002496 + 0.002491) = sqrt(0.004987) = 0.0706\n",
    "\n",
    "Find the probability. This problem requires us to find the probability that p1 is less than p2. \n",
    "This is equivalent to finding the probability that p1 - p2 is less than zero. \n",
    "To find this probability, we need to transform the random variable (p1 - p2) into a z-score. That transformation appears below.\n",
    "z p1 - p2 = (x - μ p1 - p2 ) / σd = = (0 - 0.05)/0.0706 = -0.7082\n",
    "Using Stat Trek's Normal Distribution Calculator, we find that the probability of a z-score being -0.7082 or less is 0.24.\n",
    "Therefore, the probability that the survey will show a greater percentage of Republican voters in the second state than in the first state is 0.24."
   ]
  },
  {
   "cell_type": "code",
   "execution_count": 11,
   "metadata": {},
   "outputs": [
    {
     "name": "stdout",
     "output_type": "stream",
     "text": [
      "Pvalue for 0.3540 from SCIPY Libraray : 0.6383556584353189\n",
      "The probabiltiy that Student's score on the test compared to the average test taker is 0.6383556584353189\n"
     ]
    }
   ],
   "source": [
    "#Problem Statement 3:\n",
    "\n",
    "#You take the SAT and score 1100. The mean score for the SAT is 1026 and the standard deviation is 209. \n",
    "#How well did you score on the test compared to the average test taker?\n",
    "\n",
    "#solution\n",
    "\n",
    "from scipy.stats import binom\n",
    "import scipy.stats as stat\n",
    "\n",
    "\n",
    "# mean SAT Score is: 1026\n",
    "# standard deviation is: 209\n",
    "# SAT scored by a student is: 1100\n",
    "\n",
    "#Z Score = (Scored - Mean Score)/Standard Deviation\n",
    "\n",
    "Zscore=(1100-1026)/209\n",
    "\n",
    "# Pvalue for 0.3540 from from Z table is: 0.6368\n",
    "\n",
    "print('Pvalue for 0.3540 from SCIPY Libraray :',stat.norm.cdf(Zscore))\n",
    "\n",
    "prob =stat.norm.cdf(Zscore)\n",
    "print(\"The probabiltiy that Student score on the test compared to the average test taker is\",prob)"
   ]
  },
  {
   "cell_type": "code",
   "execution_count": null,
   "metadata": {},
   "outputs": [],
   "source": []
  }
 ],
 "metadata": {
  "kernelspec": {
   "display_name": "Python 3",
   "language": "python",
   "name": "python3"
  },
  "language_info": {
   "codemirror_mode": {
    "name": "ipython",
    "version": 3
   },
   "file_extension": ".py",
   "mimetype": "text/x-python",
   "name": "python",
   "nbconvert_exporter": "python",
   "pygments_lexer": "ipython3",
   "version": "3.6.5"
  }
 },
 "nbformat": 4,
 "nbformat_minor": 2
}
